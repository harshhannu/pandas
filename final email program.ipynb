{
 "cells": [
  {
   "cell_type": "code",
   "execution_count": null,
   "metadata": {
    "scrolled": true
   },
   "outputs": [
    {
     "name": "stdout",
     "output_type": "stream",
     "text": [
      " * Serving Flask app \"__main__\" (lazy loading)\n",
      " * Environment: production\n",
      "   WARNING: This is a development server. Do not use it in a production deployment.\n",
      "   Use a production WSGI server instead.\n",
      " * Debug mode: on\n"
     ]
    },
    {
     "name": "stderr",
     "output_type": "stream",
     "text": [
      " * Running on http://127.0.0.1:5000/ (Press CTRL+C to quit)\n",
      "127.0.0.1 - - [26/Mar/2021 00:02:53] \"\u001b[31m\u001b[1mGET / HTTP/1.1\u001b[0m\" 405 -\n",
      "127.0.0.1 - - [26/Mar/2021 00:03:06] \"\u001b[37mGET /login/harsh@gmail.com/1234567897 HTTP/1.1\u001b[0m\" 200 -\n",
      "127.0.0.1 - - [26/Mar/2021 00:03:15] \"\u001b[37mGET /login/harsh@gmail.com/123456789 HTTP/1.1\u001b[0m\" 200 -\n",
      "127.0.0.1 - - [26/Mar/2021 00:03:31] \"\u001b[37mGET /login/harsh@gmail.m/1234567891 HTTP/1.1\u001b[0m\" 200 -\n"
     ]
    }
   ],
   "source": [
    "\n",
    "from flask import Flask, redirect, url_for, request,jsonify\n",
    "#from flask import MySQL\n",
    "\n",
    "import re\n",
    "\n",
    "app = Flask(__name__)\n",
    "@app.route('/',methods = ['POST'])\n",
    "def success():\n",
    "    return 'welcome ' \n",
    "\n",
    "\n",
    "@app.route('/login/<email>/<phone>',methods = ['GET','POST'])\n",
    "def check(email,phone):\n",
    " \n",
    "    #email=input()\n",
    "    regex = '^[a-z0-9]+[\\._]?[a-z0-9]+[@]\\w+[.]\\w{2,3}$' \n",
    "    if(len(phone)==10):\n",
    "\n",
    "        if(re.search(regex,email)): \n",
    "            return \"Valid Email and valid phone no.\" \n",
    "        else: \n",
    "            return \"Invalid Email or phone no.\"\n",
    "    else:\n",
    "        return \"not valid phone no.\"\n",
    "    \n",
    "    \n",
    "if __name__==\"__main__\":\n",
    "    app.run(debug=True, use_reloader=False)\n",
    "\n",
    "        \n",
    "    "
   ]
  },
  {
   "cell_type": "code",
   "execution_count": null,
   "metadata": {},
   "outputs": [],
   "source": []
  }
 ],
 "metadata": {
  "kernelspec": {
   "display_name": "Python 3",
   "language": "python",
   "name": "python3"
  },
  "language_info": {
   "codemirror_mode": {
    "name": "ipython",
    "version": 3
   },
   "file_extension": ".py",
   "mimetype": "text/x-python",
   "name": "python",
   "nbconvert_exporter": "python",
   "pygments_lexer": "ipython3",
   "version": "3.8.5"
  }
 },
 "nbformat": 4,
 "nbformat_minor": 4
}
